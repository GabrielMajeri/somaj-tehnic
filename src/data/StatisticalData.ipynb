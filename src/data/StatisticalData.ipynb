{
 "cells": [
  {
   "cell_type": "code",
   "execution_count": 46,
   "metadata": {},
   "outputs": [],
   "source": [
    "import wget\n",
    "import patoolib\n",
    "import xlrd"
   ]
  },
  {
   "cell_type": "code",
   "execution_count": 37,
   "metadata": {},
   "outputs": [
    {
     "name": "stdout",
     "output_type": "stream",
     "text": [
      "Warning: Failed to set locale category LC_NUMERIC to en_RO.\n",
      "Warning: Failed to set locale category LC_TIME to en_RO.\n",
      "Warning: Failed to set locale category LC_COLLATE to en_RO.\n",
      "Warning: Failed to set locale category LC_MONETARY to en_RO.\n",
      "Warning: Failed to set locale category LC_MESSAGES to en_RO.\n",
      "--2020-04-15 12:42:08--  http://www.insse.ro/cms/files/Publicatii_2020/83.Buletin_statistic_lunar_al_judetelor/Buletin_statistic_lunar_al_judetelor_1_2020.rar\n",
      "Resolving www.insse.ro (www.insse.ro)... 193.151.29.47\n",
      "Connecting to www.insse.ro (www.insse.ro)|193.151.29.47|:80... connected.\n",
      "HTTP request sent, awaiting response... 302 Found\n",
      "Location: https://insse.ro/cms/files/Publicatii_2020/83.Buletin_statistic_lunar_al_judetelor/Buletin_statistic_lunar_al_judetelor_1_2020.rar [following]\n",
      "--2020-04-15 12:42:08--  https://insse.ro/cms/files/Publicatii_2020/83.Buletin_statistic_lunar_al_judetelor/Buletin_statistic_lunar_al_judetelor_1_2020.rar\n",
      "Resolving insse.ro (insse.ro)... 193.151.29.47\n",
      "Connecting to insse.ro (insse.ro)|193.151.29.47|:443... connected.\n",
      "HTTP request sent, awaiting response... 200 OK\n",
      "Length: 857898 (838K) [application/rar]\n",
      "Saving to: ‘Buletin_statistic_lunar_al_judetelor_1_2020.rar’\n",
      "\n",
      "Buletin_statistic_l 100%[===================>] 837.79K  4.81MB/s    in 0.2s    \n",
      "\n",
      "2020-04-15 12:42:08 (4.81 MB/s) - ‘Buletin_statistic_lunar_al_judetelor_1_2020.rar’ saved [857898/857898]\n",
      "\n"
     ]
    }
   ],
   "source": [
    "!wget 'http://www.insse.ro/cms/files/Publicatii_2020/83.Buletin_statistic_lunar_al_judetelor/Buletin_statistic_lunar_al_judetelor_1_2020.rar'"
   ]
  },
  {
   "cell_type": "code",
   "execution_count": 39,
   "metadata": {
    "scrolled": true
   },
   "outputs": [
    {
     "name": "stdout",
     "output_type": "stream",
     "text": [
      "patool: Extracting Buletin_statistic_lunar_al_judetelor_1_2020.rar ...\n",
      "patool: running /usr/local/bin/unrar x -- /Users/mihaistoian/Desktop/hackTheVirus/Buletin_statistic_lunar_al_judetelor_1_2020.rar\n",
      "patool:     with cwd='./Unpack_x2jisqcx'\n",
      "patool: ... Buletin_statistic_lunar_al_judetelor_1_2020.rar extracted to `Buletin_statistic_lunar_al_judetelor_1_2020'.\n"
     ]
    },
    {
     "data": {
      "text/plain": [
       "'Buletin_statistic_lunar_al_judetelor_1_2020'"
      ]
     },
     "execution_count": 39,
     "metadata": {},
     "output_type": "execute_result"
    }
   ],
   "source": [
    "patoolib.extract_archive('Buletin_statistic_lunar_al_judetelor_1_2020.rar')"
   ]
  },
  {
   "cell_type": "code",
   "execution_count": null,
   "metadata": {},
   "outputs": [],
   "source": [
    "#extragere date Brasov pentru test"
   ]
  },
  {
   "cell_type": "code",
   "execution_count": 47,
   "metadata": {},
   "outputs": [],
   "source": [
    "wb = xlrd.open_workbook('Buletin_statistic_lunar_al_judetelor_1_2020/Brasov.xls')"
   ]
  },
  {
   "cell_type": "code",
   "execution_count": 134,
   "metadata": {},
   "outputs": [],
   "source": [
    "raw_data = []\n",
    "data = {}\n",
    "values = []"
   ]
  },
  {
   "cell_type": "code",
   "execution_count": 135,
   "metadata": {},
   "outputs": [],
   "source": [
    "sheet = wb.sheet_by_index(0)"
   ]
  },
  {
   "cell_type": "code",
   "execution_count": 136,
   "metadata": {},
   "outputs": [],
   "source": [
    "def read_row(sheet, row):\n",
    "    ar = []\n",
    "    for i in range(0, sheet.row_len(row)):\n",
    "        ar.append(sheet.cell_value(row, i))\n",
    "    return list(ar)"
   ]
  },
  {
   "cell_type": "code",
   "execution_count": 137,
   "metadata": {},
   "outputs": [],
   "source": [
    "for i in range(0,sheet.nrows):\n",
    "    value = sheet.cell_value(i,0)\n",
    "    raw_data.append(read_row(sheet, i))"
   ]
  },
  {
   "cell_type": "code",
   "execution_count": 167,
   "metadata": {},
   "outputs": [],
   "source": [
    "year = ['ian', 'feb', 'mar', 'apr', 'mai', 'iun', 'iul', 'aug', 'sep', 'oct', 'nov', 'dec']\n",
    "def get_months(row):\n",
    "    final_row = []\n",
    "    for el in row:\n",
    "        for month in year:\n",
    "            if month in el:\n",
    "                final_row.append(month)\n",
    "    return final_row\n",
    "\n",
    "years = ['2010', '2011', '2012', '2013', '2014', '2015', '2016', '2017', '2018', '2019', '2020']\n",
    "def get_years(row):\n",
    "    curent_year = ''\n",
    "    final_row = []\n",
    "    for el in row:\n",
    "        for year in years:\n",
    "            if year in el:\n",
    "                curent_year = year\n",
    "                final_row.append(curent_year)\n",
    "        if el == '' and curent_year != '':\n",
    "            final_row.append(curent_year)\n",
    "    return final_row"
   ]
  },
  {
   "cell_type": "code",
   "execution_count": 168,
   "metadata": {},
   "outputs": [
    {
     "data": {
      "text/plain": [
       "['ian',\n",
       " 'feb',\n",
       " 'mar',\n",
       " 'apr',\n",
       " 'mai',\n",
       " 'iun',\n",
       " 'iul',\n",
       " 'aug',\n",
       " 'sep',\n",
       " 'oct',\n",
       " 'nov',\n",
       " 'dec',\n",
       " 'ian']"
      ]
     },
     "execution_count": 168,
     "metadata": {},
     "output_type": "execute_result"
    }
   ],
   "source": [
    "get_months(raw_data[63])"
   ]
  },
  {
   "cell_type": "code",
   "execution_count": 175,
   "metadata": {},
   "outputs": [],
   "source": [
    "country = {}"
   ]
  },
  {
   "cell_type": "code",
   "execution_count": 187,
   "metadata": {},
   "outputs": [],
   "source": [
    "#nr salariati\n",
    "country['castig mediu net'] = {}\n",
    "country['castig mediu net']['total judet'] = raw_data[89][-1]\n",
    "country['castig mediu net']['agricultura silvicultura pescuit'] = raw_data[90][-1]\n",
    "country['castig mediu net']['industrie si constructii'] = raw_data[91][-1]\n",
    "country['castig mediu net']['servicii'] =  raw_data[92][-1]"
   ]
  },
  {
   "cell_type": "code",
   "execution_count": 238,
   "metadata": {},
   "outputs": [],
   "source": [
    "import unidecode"
   ]
  },
  {
   "cell_type": "code",
   "execution_count": null,
   "metadata": {},
   "outputs": [],
   "source": [
    "# extragere date automatic din toate xls"
   ]
  },
  {
   "cell_type": "code",
   "execution_count": 298,
   "metadata": {},
   "outputs": [],
   "source": [
    "def read_row(sheet, row):\n",
    "    ar = []\n",
    "    for i in range(0, sheet.row_len(row)):\n",
    "        ar.append(sheet.cell_value(row, i))\n",
    "    return list(ar)\n",
    "\n",
    "\n",
    "import os\n",
    "DB = {}\n",
    "file_names = os.listdir('Buletin_statistic_lunar_al_judetelor_1_2020/')\n",
    "file_names.remove('Nivel national.xls')\n",
    "\n",
    "for file in file_names:\n",
    "    curent_country = file\n",
    "    curent_country = curent_country.replace('.xlsx', '')\n",
    "    curent_country = curent_country.replace('.xls', '')\n",
    "    path = 'Buletin_statistic_lunar_al_judetelor_1_2020/' + file\n",
    "    \n",
    "    wb = xlrd.open_workbook(path)\n",
    "    raw_data = []\n",
    "    data = {}\n",
    "    values = []\n",
    "    sheet = wb.sheet_by_index(0)\n",
    "    \n",
    "    for i in range(0,sheet.nrows):\n",
    "        value = sheet.cell_value(i,0)\n",
    "        raw_data.append(read_row(sheet, i))\n",
    "        \n",
    "    country = {}\n",
    "    country = {}\n",
    "    country[\"total\"] = raw_data[89][-1]\n",
    "    country[\"agricultura\"] = raw_data[90][-1]\n",
    "    country[\"industrie\"] = raw_data[91][-1]\n",
    "    country[\"servicii\"] =  raw_data[92][-1]\n",
    "    DB[curent_country] = country"
   ]
  },
  {
   "cell_type": "code",
   "execution_count": 299,
   "metadata": {},
   "outputs": [],
   "source": [
    "# Add Diacritics to the countries\n",
    "noDiacritics = ['Neamt', 'Gorj', 'Brasov', 'Maramures', 'Salaj', 'Bistrita-Nasaud', 'Olt', 'Suceava', 'Hunedoara', 'Botosani', 'Mures', 'Caras-Severin', 'Iasi', 'Vrancea', 'Cluj', 'Giurgiu', 'Alba', 'Galati', 'Satu Mare', 'Buzau', 'Bihor', 'Arges', 'Harghita', 'Prahova', 'Calarasi', 'Bacau', 'Dambovita', 'Mehedinti', 'Braila', 'Bucuresti', 'Constanta', 'Valcea', 'Ialomita', 'Dolj', 'Vaslui', 'Arad', 'Ilfov', 'Covasna', 'Timis', 'Tulcea', 'Sibiu', 'Teleorman']\n",
    "Diacritics = ['Neamț', 'Gorj', 'Brașov', 'Maramureș', 'Sălaj', 'Bistrița-Năsăud', 'Olt', 'Suceava', 'Hunedoara', 'Botoșani', 'Mureș', 'Caraș-Severin', 'Iași', 'Vrancea', 'Cluj', 'Giurgiu', 'Alba', 'Galați', 'Satu Mare', 'Buzău', 'Bihor', 'Argeș', 'Harghita', 'Prahova', 'Călărași', 'Bacău', 'Dâmbovița', 'Mehedinți', 'Brăila', 'București', 'Constanța', 'Vâlcea', 'Ialomița', 'Dolj', 'Vaslui', 'Arad', 'Ilfov', 'Covasna', 'Timiș', 'Tulcea', 'Sibiu', 'Teleorman']\n",
    "newDB = {}\n",
    "for i in range(len(noDiacritics)):\n",
    "    newDB[Diacritics[i]] = DB[noDiacritics[i]]\n",
    "DB = newDB"
   ]
  },
  {
   "cell_type": "code",
   "execution_count": 300,
   "metadata": {},
   "outputs": [],
   "source": [
    "# Toata tara\n",
    "wb = xlrd.open_workbook('Buletin_statistic_lunar_al_judetelor_1_2020/Nivel national.xls')\n",
    "raw_data = []\n",
    "data = {}\n",
    "values = []\n",
    "sheet = wb.sheet_by_index(0)\n",
    "for i in range(0,sheet.nrows):\n",
    "    value = sheet.cell_value(i,0)\n",
    "    raw_data.append(read_row(sheet, i))\n",
    "\n",
    "country = {}\n",
    "country = {}\n",
    "\n",
    "for i in range(106, 128):\n",
    "    line = raw_data[i]\n",
    "    country[line[0]] = line[-1]\n",
    "\n"
   ]
  },
  {
   "cell_type": "code",
   "execution_count": 302,
   "metadata": {},
   "outputs": [],
   "source": [
    "import json\n",
    "with open('avgSalaryJanuaryCountry.json', 'w') as f:\n",
    "    f.write(json.dumps(DB, indent=4, sort_keys=True, ensure_ascii=False))\n",
    "with open('avgSalaryJanuaryRomania.json', 'w', encoding = \"UTF-8\") as f:\n",
    "    f.write(json.dumps(country, indent=4, sort_keys=True, ensure_ascii=False))"
   ]
  },
  {
   "cell_type": "code",
   "execution_count": null,
   "metadata": {},
   "outputs": [],
   "source": []
  },
  {
   "cell_type": "code",
   "execution_count": null,
   "metadata": {},
   "outputs": [],
   "source": []
  },
  {
   "cell_type": "code",
   "execution_count": null,
   "metadata": {},
   "outputs": [],
   "source": []
  },
  {
   "cell_type": "code",
   "execution_count": null,
   "metadata": {},
   "outputs": [],
   "source": []
  }
 ],
 "metadata": {
  "kernelspec": {
   "display_name": "Python 3",
   "language": "python",
   "name": "python3"
  },
  "language_info": {
   "codemirror_mode": {
    "name": "ipython",
    "version": 3
   },
   "file_extension": ".py",
   "mimetype": "text/x-python",
   "name": "python",
   "nbconvert_exporter": "python",
   "pygments_lexer": "ipython3",
   "version": "3.7.4"
  }
 },
 "nbformat": 4,
 "nbformat_minor": 2
}
